{
 "cells": [
  {
   "cell_type": "code",
   "execution_count": 1,
   "metadata": {},
   "outputs": [],
   "source": [
    "# Importar librerias y configurar logging\n",
    "import pandas as pd\n",
    "from pathlib import Path\n",
    "import tabula\n",
    "from unidecode import unidecode\n",
    "import logging\n",
    "logging.basicConfig(level=logging.DEBUG, filename='log.log',  format='%(asctime)s %(levelname)s %(name)s %(message)s')\n",
    "logger = logging.getLogger(__name__)"
   ]
  },
  {
   "cell_type": "code",
   "execution_count": 2,
   "metadata": {},
   "outputs": [],
   "source": [
    "# Listar archivos pdf\n",
    "mi_path = 'fichas/'\n",
    "lista_pdfs = list(Path(mi_path).glob('**/*.pdf'))"
   ]
  },
  {
   "cell_type": "code",
   "execution_count": 3,
   "metadata": {},
   "outputs": [],
   "source": [
    "# Extraer tablas\n",
    "tablas = []\n",
    "for pdf in lista_pdfs:\n",
    "    try:\n",
    "        tabla = tabula.read_pdf(pdf, pages='all', guess=False, lattice=True)\n",
    "        tablas.append(tabla)\n",
    "    except Exception as e:\n",
    "        tablas.append(None)\n",
    "        logger.error(f'Error al extraer tablas de {pdf}')\n",
    "        logger.error(e)\n",
    "        continue"
   ]
  },
  {
   "cell_type": "code",
   "execution_count": 4,
   "metadata": {},
   "outputs": [],
   "source": [
    "# Limpiar tablas\n",
    "nombres_pdfs = [pdf.name.replace('.pdf', '') for pdf in lista_pdfs]\n",
    "tablas_clean = []\n",
    "for idx, tabla in enumerate(tablas):\n",
    "    try:\n",
    "        tabla_x = tabla[4] if tabla[4].columns.str.contains('UNSPS').any() else tabla[5] if tabla[5].columns.str.contains('UNSPS').any() else tabla[6]\n",
    "        tabla_x.columns = tabla_x.columns.str.replace('\\r', '', regex=True).str.replace(' ', '').to_series().apply(unidecode)\n",
    "        tabla_x = tabla_x.drop(tabla_x.columns[-1], axis=1)\n",
    "        tabla_x.replace('\\r', ' ', regex=True, inplace=True)\n",
    "        tabla_x.drop(tabla_x.index[-1], inplace=True)\n",
    "        tabla_x.insert(0, 'cuce', nombres_pdfs[idx])\n",
    "        tabla_x.insert(1, 'list_n', idx)\n",
    "        tablas_clean.append(tabla_x)\n",
    "    except Exception as e:\n",
    "        tablas_clean.append(None)\n",
    "        logger.error(f'Error al procesar tablas de la lista: {idx}: {nombres_pdfs[idx]}')\n",
    "        logger.error(e)\n",
    "        continue"
   ]
  },
  {
   "cell_type": "code",
   "execution_count": 5,
   "metadata": {},
   "outputs": [],
   "source": [
    "# Unir tablas\n",
    "df_clean = pd.concat(tablas_clean, ignore_index=True)"
   ]
  },
  {
   "cell_type": "code",
   "execution_count": 6,
   "metadata": {},
   "outputs": [],
   "source": [
    "# Exportar a csv\n",
    "df_clean.to_csv('../../fichas/fichas_nuevas.csv', index=False)"
   ]
  },
  {
   "cell_type": "code",
   "execution_count": 7,
   "metadata": {},
   "outputs": [],
   "source": [
    "import pickle\n",
    "with open('../../fichas/fichas_nuevas.pkl', 'wb') as f:\n",
    "    pickle.dump(tablas, f)\n",
    "\n",
    "with open('../../fichas/lista_pdfs.pkl', 'wb') as f:\n",
    "    pickle.dump(lista_pdfs, f)"
   ]
  },
  {
   "cell_type": "code",
   "execution_count": 8,
   "metadata": {},
   "outputs": [
    {
     "data": {
      "text/plain": [
       "True"
      ]
     },
     "execution_count": 8,
     "metadata": {},
     "output_type": "execute_result"
    }
   ],
   "source": [
    "len(lista_pdfs) == len(tablas) == len(tablas_clean)"
   ]
  }
 ],
 "metadata": {
  "kernelspec": {
   "display_name": "Python 3.9.13 64-bit",
   "language": "python",
   "name": "python3"
  },
  "language_info": {
   "codemirror_mode": {
    "name": "ipython",
    "version": 3
   },
   "file_extension": ".py",
   "mimetype": "text/x-python",
   "name": "python",
   "nbconvert_exporter": "python",
   "pygments_lexer": "ipython3",
   "version": "3.9.13"
  },
  "orig_nbformat": 4,
  "vscode": {
   "interpreter": {
    "hash": "aee8b7b246df8f9039afb4144a1f6fd8d2ca17a180786b69acc140d282b71a49"
   }
  }
 },
 "nbformat": 4,
 "nbformat_minor": 2
}
